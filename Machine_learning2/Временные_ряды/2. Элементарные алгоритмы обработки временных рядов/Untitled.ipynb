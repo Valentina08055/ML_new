{
 "cells": [
  {
   "cell_type": "code",
   "execution_count": 6,
   "metadata": {},
   "outputs": [],
   "source": [
    "import pandas as pd\n",
    "import numpy as np\n",
    "from matplotlib import pyplot as plt"
   ]
  },
  {
   "cell_type": "code",
   "execution_count": 17,
   "metadata": {},
   "outputs": [],
   "source": [
    "sales_of_company_x = pd.read_csv(\"D:\\Python3\\Machine_learning2/monthly-sales-of-company-x-jan-6.csv\")\n",
    "robberies_in_boston = pd.read_csv(\"D:\\Python3\\Machine_learning2/monthly-boston-armed-robberies-j.csv\")\n",
    "airlines_passengers = pd.read_csv(\"D:\\Python3\\Machine_learning2/international-airline-passengers.csv\")\n",
    "mean_monthly_temp = pd.read_csv(\"D:\\Python3\\Machine_learning2/mean-monthly-air-temperature-deg.csv\")\n",
    "dowjones_closing = pd.read_csv(\"D:\\Python3\\Machine_learning2/weekly-closings-of-the-dowjones-.csv\")\n",
    "female_births = pd.read_csv(\"D:\\Python3\\Machine_learning2/daily-total-female-births-in-cal.csv\")"
   ]
  },
  {
   "cell_type": "code",
   "execution_count": 18,
   "metadata": {},
   "outputs": [],
   "source": [
    "all_series = {\n",
    "    \"Monthly sales of company X\": sales_of_company_x[\"Count\"],\n",
    "    \"Monthly Boston armed robberies\": robberies_in_boston[\"Count\"],\n",
    "    \"International airline passengers: monthly totals in thousands\": airlines_passengers[\"Count\"],\n",
    "    \"Mean monthly air temperature (Deg. F) Nottingham Castle\": mean_monthly_temp[\"Deg\"],\n",
    "    \"Weekly closings of the Dow-Jones industrial average\": dowjones_closing[\"Close\"],\n",
    "    \"Daily total female births in California\": female_births[\"Count\"]\n",
    "}"
   ]
  },
  {
   "cell_type": "code",
   "execution_count": 22,
   "metadata": {},
   "outputs": [],
   "source": [
    "def weighted_moving_average(series, n, weights):\n",
    "    if not isinstance(weights, np.ndarray):\n",
    "        weights = np.array(weights)\n",
    "    if not isinstance(series, pd.Series):\n",
    "        series = pd.Series(series)\n",
    "    wma = series.rolling(n).apply(lambda s: (s * weights).sum() / weights.sum(), raw=True)\n",
    "    return wma"
   ]
  },
  {
   "cell_type": "code",
   "execution_count": 23,
   "metadata": {},
   "outputs": [],
   "source": [
    "series = robberies_in_boston[\"Count\"]\n",
    "wma_fib = weighted_moving_average(series, 7, [1,1,2,3,5,8,13])\n",
    "wma_seq = weighted_moving_average(series, 7, [1,2,3,4,5,6,7])\n",
    "wma_pow = weighted_moving_average(series, 7, [1,2,4,8,16,32,64])"
   ]
  },
  {
   "cell_type": "code",
   "execution_count": null,
   "metadata": {},
   "outputs": [],
   "source": [
    "with plt.style.context('bmh'):\n",
    "    plt.figure(figsize=(14, 8))\n",
    "    plt.plot(series, color='blue',label='original')\n",
    "    \n",
    "    plt.plot(wma_fib, color='red', linewidth='2', label='FIB')\n",
    "    plt.plot(wma_seq, color='green', linewidth='2', label='SEQ')\n",
    "    plt.plot(wma_pow, color='orange', linewidth='2', label='POW')\n",
    "    plt.legend()"
   ]
  }
 ],
 "metadata": {
  "kernelspec": {
   "display_name": "Python 3",
   "language": "python",
   "name": "python3"
  },
  "language_info": {
   "codemirror_mode": {
    "name": "ipython",
    "version": 3
   },
   "file_extension": ".py",
   "mimetype": "text/x-python",
   "name": "python",
   "nbconvert_exporter": "python",
   "pygments_lexer": "ipython3",
   "version": "3.8.3"
  }
 },
 "nbformat": 4,
 "nbformat_minor": 4
}
